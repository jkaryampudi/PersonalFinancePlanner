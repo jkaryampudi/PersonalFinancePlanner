{
 "cells": [
  {
   "cell_type": "markdown",
   "metadata": {},
   "source": [
    "# Unit 5 - Financial Planning\n"
   ]
  },
  {
   "cell_type": "code",
   "execution_count": 1,
   "metadata": {},
   "outputs": [],
   "source": [
    "# Initial imports\n",
    "import os\n",
    "import json as json\n",
    "import requests\n",
    "import pandas as pd\n",
    "from dotenv import load_dotenv\n",
    "import alpaca_trade_api as tradeapi\n",
    "from MCForecastTools import MCSimulation\n",
    "\n",
    "%matplotlib inline"
   ]
  },
  {
   "cell_type": "code",
   "execution_count": 2,
   "metadata": {},
   "outputs": [
    {
     "data": {
      "text/plain": [
       "True"
      ]
     },
     "execution_count": 2,
     "metadata": {},
     "output_type": "execute_result"
    }
   ],
   "source": [
    "# Load .env enviroment variables\n",
    "load_dotenv()"
   ]
  },
  {
   "cell_type": "markdown",
   "metadata": {},
   "source": [
    "## Part 1 - Personal Finance Planner"
   ]
  },
  {
   "cell_type": "markdown",
   "metadata": {},
   "source": [
    "### Collect Crypto Prices Using the `requests` Library"
   ]
  },
  {
   "cell_type": "code",
   "execution_count": 3,
   "metadata": {},
   "outputs": [],
   "source": [
    "# Set current amount of crypto assets\n",
    "my_btc = 1.2\n",
    "my_eth = 5.3"
   ]
  },
  {
   "cell_type": "code",
   "execution_count": 4,
   "metadata": {},
   "outputs": [],
   "source": [
    "# Crypto API URLs\n",
    "btc_url = \"https://api.alternative.me/v2/ticker/Bitcoin/?convert=AUD\"\n",
    "eth_url = \"https://api.alternative.me/v2/ticker/Ethereum/?convert=AUD\""
   ]
  },
  {
   "cell_type": "code",
   "execution_count": 5,
   "metadata": {},
   "outputs": [
    {
     "name": "stdout",
     "output_type": "stream",
     "text": [
      "The current value of your 1.2 BTC is $75772.80\n",
      "The current value of your 5.3 ETH is $24510.75\n"
     ]
    }
   ],
   "source": [
    "# Fetch current BTC price\n",
    "btc_response_data = requests.get(btc_url) \n",
    "btc_response_data = btc_response_data.json()\n",
    "\n",
    "# Fetch current ETH price\n",
    "eth_response_data = requests.get(eth_url)\n",
    "eth_response_data = eth_response_data.json()\n",
    "\n",
    "# Compute current value of my crpto\n",
    "\n",
    "\n",
    "my_btc_value = my_btc * btc_response_data['data']['1']['quotes']['USD']['price']\n",
    "my_eth_value = my_eth * eth_response_data['data']['1027']['quotes']['USD']['price']\n",
    "total_crypto_value = my_btc_value + my_eth_value\n",
    "\n",
    "\n",
    "# Print current crypto wallet balance\n",
    "print(f\"The current value of your {my_btc} BTC is ${my_btc_value:0.2f}\")\n",
    "print(f\"The current value of your {my_eth} ETH is ${my_eth_value:0.2f}\")"
   ]
  },
  {
   "cell_type": "markdown",
   "metadata": {},
   "source": [
    "### Collect Investments Data Using Alpaca: `SPY` (stocks) and `AGG` (bonds)"
   ]
  },
  {
   "cell_type": "code",
   "execution_count": 6,
   "metadata": {},
   "outputs": [],
   "source": [
    "# Current amount of shares\n",
    "my_agg = 200\n",
    "my_spy = 50"
   ]
  },
  {
   "cell_type": "code",
   "execution_count": 7,
   "metadata": {},
   "outputs": [],
   "source": [
    "# Set Alpaca API key and secret\n",
    "alpaca_api_key = os.getenv(\"ALPACA_API_KEY\")\n",
    "alpaca_secret_key = os.getenv(\"ALPACA_SECRET_KEY\")\n",
    "\n",
    "# Create the Alpaca API object\n",
    "api = tradeapi.REST(\n",
    "    alpaca_api_key,\n",
    "    alpaca_secret_key,\n",
    "    api_version = \"v2\"\n",
    ")"
   ]
  },
  {
   "cell_type": "code",
   "execution_count": 12,
   "metadata": {},
   "outputs": [
    {
     "data": {
      "text/html": [
       "<div>\n",
       "<style scoped>\n",
       "    .dataframe tbody tr th:only-of-type {\n",
       "        vertical-align: middle;\n",
       "    }\n",
       "\n",
       "    .dataframe tbody tr th {\n",
       "        vertical-align: top;\n",
       "    }\n",
       "\n",
       "    .dataframe thead th {\n",
       "        text-align: right;\n",
       "    }\n",
       "</style>\n",
       "<table border=\"1\" class=\"dataframe\">\n",
       "  <thead>\n",
       "    <tr style=\"text-align: right;\">\n",
       "      <th></th>\n",
       "      <th>AGG</th>\n",
       "      <th>SPY</th>\n",
       "    </tr>\n",
       "    <tr>\n",
       "      <th>time</th>\n",
       "      <th></th>\n",
       "      <th></th>\n",
       "    </tr>\n",
       "  </thead>\n",
       "  <tbody>\n",
       "    <tr>\n",
       "      <th>2015-08-06 00:00:00-04:00</th>\n",
       "      <td>108.99</td>\n",
       "      <td>208.47</td>\n",
       "    </tr>\n",
       "  </tbody>\n",
       "</table>\n",
       "</div>"
      ],
      "text/plain": [
       "                              AGG     SPY\n",
       "time                                     \n",
       "2015-08-06 00:00:00-04:00  108.99  208.47"
      ]
     },
     "execution_count": 12,
     "metadata": {},
     "output_type": "execute_result"
    }
   ],
   "source": [
    "# Format current date as ISO format\n",
    "# Format current date as ISO format\n",
    "current_date = pd.Timestamp(pd.to_datetime(\"2015-08-07\"), tz=\"Australia/NSW\").isoformat()\n",
    "\n",
    "# Set the tickers\n",
    "tickers = [\"AGG\", \"SPY\"]\n",
    "\n",
    "# Set timeframe to '1D' for Alpaca API\n",
    "timeframe = \"1D\"\n",
    "\n",
    "# Get current closing prices for SPY and AGG\n",
    "df_portfolio = api.get_barset(\n",
    "    tickers,\n",
    "    timeframe,\n",
    "    start = current_date,\n",
    "    end = current_date\n",
    ").df\n",
    "\n",
    "# Create and empty DataFrame for closing prices\n",
    "df_closing_prices = pd.DataFrame()\n",
    "\n",
    "# Fetch the closing prices for all the tickers\n",
    "for ticker in tickers:\n",
    "    df_closing_prices[ticker] = df_portfolio[ticker][\"close\"]\n",
    "\n",
    "# Drop the time component of the date\n",
    "#df_closing_prices.index = df_closing_prices.index.date\n",
    "\n",
    "\n",
    "\n",
    "# Preview DataFrame\n",
    "df_closing_prices.head()"
   ]
  },
  {
   "cell_type": "code",
   "execution_count": 13,
   "metadata": {},
   "outputs": [
    {
     "name": "stdout",
     "output_type": "stream",
     "text": [
      "Current AGG closing price: $108.99\n",
      "Current SPY closing price: $208.47\n"
     ]
    }
   ],
   "source": [
    "# Pick AGG and SPY close prices\n",
    "agg_close_price = df_closing_prices['AGG'].values[0]\n",
    "spy_close_price = df_closing_prices['SPY'].values[0]\n",
    "\n",
    "\n",
    "# Print AGG and SPY close prices\n",
    "print(f\"Current AGG closing price: ${agg_close_price}\")\n",
    "print(f\"Current SPY closing price: ${spy_close_price}\")"
   ]
  },
  {
   "cell_type": "code",
   "execution_count": 14,
   "metadata": {},
   "outputs": [
    {
     "name": "stdout",
     "output_type": "stream",
     "text": [
      "The current value of your 50 SPY shares is $10423.5\n",
      "The current value of your 200 AGG shares is $21798.0\n"
     ]
    }
   ],
   "source": [
    "# Compute the current value of share\n",
    "my_agg_value = my_agg * agg_close_price\n",
    "my_spy_value = my_spy * spy_close_price\n",
    "total_share_value = my_agg_value + my_spy_value\n",
    "\n",
    "\n",
    "\n",
    "# Print current value of share\n",
    "print(f\"The current value of your {my_spy} SPY shares is ${my_spy_value}\")\n",
    "print(f\"The current value of your {my_agg} AGG shares is ${my_agg_value}\")"
   ]
  },
  {
   "cell_type": "markdown",
   "metadata": {},
   "source": [
    "### Savings Health Analysis"
   ]
  },
  {
   "cell_type": "code",
   "execution_count": 15,
   "metadata": {},
   "outputs": [
    {
     "name": "stdout",
     "output_type": "stream",
     "text": [
      "\n"
     ]
    },
    {
     "data": {
      "text/html": [
       "<div>\n",
       "<style scoped>\n",
       "    .dataframe tbody tr th:only-of-type {\n",
       "        vertical-align: middle;\n",
       "    }\n",
       "\n",
       "    .dataframe tbody tr th {\n",
       "        vertical-align: top;\n",
       "    }\n",
       "\n",
       "    .dataframe thead th {\n",
       "        text-align: right;\n",
       "    }\n",
       "</style>\n",
       "<table border=\"1\" class=\"dataframe\">\n",
       "  <thead>\n",
       "    <tr style=\"text-align: right;\">\n",
       "      <th></th>\n",
       "      <th>amount</th>\n",
       "    </tr>\n",
       "  </thead>\n",
       "  <tbody>\n",
       "    <tr>\n",
       "      <th>crypto</th>\n",
       "      <td>100283.551</td>\n",
       "    </tr>\n",
       "    <tr>\n",
       "      <th>shares</th>\n",
       "      <td>32221.500</td>\n",
       "    </tr>\n",
       "  </tbody>\n",
       "</table>\n",
       "</div>"
      ],
      "text/plain": [
       "            amount\n",
       "crypto  100283.551\n",
       "shares   32221.500"
      ]
     },
     "metadata": {},
     "output_type": "display_data"
    }
   ],
   "source": [
    "# Set monthly household income\n",
    "monthly_income = 12000\n",
    "print()\n",
    "# Create savings DataFrame\n",
    "df_savings = pd.DataFrame({\"amount\":[total_crypto_value,total_share_value]},\n",
    "                         index = [\"crypto\",\"shares\"])\n",
    "\n",
    "# Display savings DataFrame\n",
    "display(df_savings)"
   ]
  },
  {
   "cell_type": "code",
   "execution_count": 16,
   "metadata": {},
   "outputs": [
    {
     "data": {
      "text/plain": [
       "<matplotlib.axes._subplots.AxesSubplot at 0x7fb76823da90>"
      ]
     },
     "execution_count": 16,
     "metadata": {},
     "output_type": "execute_result"
    },
    {
     "data": {
      "image/png": "[encoded data removed]",
      "text/plain": [
       "<Figure size 360x360 with 1 Axes>"
      ]
     },
     "metadata": {},
     "output_type": "display_data"
    }
   ],
   "source": [
    "# Plot savings pie chart\n",
    "df_savings.plot.pie(y='amount', figsize=(5, 5))"
   ]
  },
  {
   "cell_type": "code",
   "execution_count": 17,
   "metadata": {},
   "outputs": [
    {
     "name": "stdout",
     "output_type": "stream",
     "text": [
      "Congratulations, You have enough funds to cover you in an emergency\n"
     ]
    }
   ],
   "source": [
    "# Set ideal emergency fund\n",
    "emergency_fund = monthly_income * 3\n",
    "\n",
    "# Calculate total amount of savings\n",
    "total_savings = df_savings.sum().values[0]\n",
    "\n",
    "# Validate saving health\n",
    "if(total_savings > emergency_fund):\n",
    "    print(\"Congratulations, You have enough funds to cover you in an emergency\")\n",
    "elif(total_savings < emergency_fund):\n",
    "    funds_required = emergency_fund - total_savings\n",
    "    print(f\"Unfortunately, you need additional ${funds_required} required to cover you in an emergenct\")\n",
    "elif(total_savings == emergency_fund):\n",
    "    print(\"Congratulations on reaching your emergency fund financial goal\")\n"
   ]
  },
  {
   "cell_type": "markdown",
   "metadata": {},
   "source": [
    "## Part 2 - Retirement Planning\n",
    "\n",
    "### Monte Carlo Simulation"
   ]
  },
  {
   "cell_type": "code",
   "execution_count": 21,
   "metadata": {},
   "outputs": [
    {
     "name": "stdout",
     "output_type": "stream",
     "text": [
      "['AGG', 'SPY']\n"
     ]
    }
   ],
   "source": [
    "# Set start and end dates of five years back from today.\n",
    "# Sample results may vary from the solution based on the time frame chosen\n",
    "start_date = pd.Timestamp('2015-08-07', tz='America/New_York').isoformat()\n",
    "end_date = pd.Timestamp('2020-08-07', tz='America/New_York').isoformat()\n",
    "print(tickers)"
   ]
  },
  {
   "cell_type": "code",
   "execution_count": 31,
   "metadata": {},
   "outputs": [
    {
     "data": {
      "text/html": [
       "<div>\n",
       "<style scoped>\n",
       "    .dataframe tbody tr th:only-of-type {\n",
       "        vertical-align: middle;\n",
       "    }\n",
       "\n",
       "    .dataframe tbody tr th {\n",
       "        vertical-align: top;\n",
       "    }\n",
       "\n",
       "    .dataframe thead tr th {\n",
       "        text-align: left;\n",
       "    }\n",
       "</style>\n",
       "<table border=\"1\" class=\"dataframe\">\n",
       "  <thead>\n",
       "    <tr>\n",
       "      <th></th>\n",
       "      <th colspan=\"5\" halign=\"left\">AGG</th>\n",
       "      <th colspan=\"5\" halign=\"left\">SPY</th>\n",
       "    </tr>\n",
       "    <tr>\n",
       "      <th></th>\n",
       "      <th>open</th>\n",
       "      <th>high</th>\n",
       "      <th>low</th>\n",
       "      <th>close</th>\n",
       "      <th>volume</th>\n",
       "      <th>open</th>\n",
       "      <th>high</th>\n",
       "      <th>low</th>\n",
       "      <th>close</th>\n",
       "      <th>volume</th>\n",
       "    </tr>\n",
       "  </thead>\n",
       "  <tbody>\n",
       "    <tr>\n",
       "      <th>2020-03-18</th>\n",
       "      <td>109.36</td>\n",
       "      <td>110.5700</td>\n",
       "      <td>105.7707</td>\n",
       "      <td>106.33</td>\n",
       "      <td>30173684</td>\n",
       "      <td>236.25</td>\n",
       "      <td>248.3700</td>\n",
       "      <td>228.02</td>\n",
       "      <td>241.01</td>\n",
       "      <td>256921808</td>\n",
       "    </tr>\n",
       "    <tr>\n",
       "      <th>2020-03-19</th>\n",
       "      <td>106.47</td>\n",
       "      <td>109.2200</td>\n",
       "      <td>105.5600</td>\n",
       "      <td>108.97</td>\n",
       "      <td>21031320</td>\n",
       "      <td>239.25</td>\n",
       "      <td>247.3800</td>\n",
       "      <td>232.22</td>\n",
       "      <td>241.18</td>\n",
       "      <td>248430643</td>\n",
       "    </tr>\n",
       "    <tr>\n",
       "      <th>2020-03-20</th>\n",
       "      <td>108.46</td>\n",
       "      <td>110.2399</td>\n",
       "      <td>108.4600</td>\n",
       "      <td>109.49</td>\n",
       "      <td>28449412</td>\n",
       "      <td>242.53</td>\n",
       "      <td>244.4700</td>\n",
       "      <td>228.50</td>\n",
       "      <td>228.94</td>\n",
       "      <td>286308782</td>\n",
       "    </tr>\n",
       "    <tr>\n",
       "      <th>2020-03-23</th>\n",
       "      <td>109.90</td>\n",
       "      <td>112.9400</td>\n",
       "      <td>109.0000</td>\n",
       "      <td>112.55</td>\n",
       "      <td>23873510</td>\n",
       "      <td>228.19</td>\n",
       "      <td>229.6833</td>\n",
       "      <td>218.26</td>\n",
       "      <td>222.51</td>\n",
       "      <td>268298876</td>\n",
       "    </tr>\n",
       "    <tr>\n",
       "      <th>2020-03-24</th>\n",
       "      <td>111.52</td>\n",
       "      <td>113.5000</td>\n",
       "      <td>111.0754</td>\n",
       "      <td>113.29</td>\n",
       "      <td>18141498</td>\n",
       "      <td>234.42</td>\n",
       "      <td>244.1000</td>\n",
       "      <td>233.80</td>\n",
       "      <td>243.59</td>\n",
       "      <td>203576470</td>\n",
       "    </tr>\n",
       "  </tbody>\n",
       "</table>\n",
       "</div>"
      ],
      "text/plain": [
       "               AGG                                           SPY            \\\n",
       "              open      high       low   close    volume    open      high   \n",
       "2020-03-18  109.36  110.5700  105.7707  106.33  30173684  236.25  248.3700   \n",
       "2020-03-19  106.47  109.2200  105.5600  108.97  21031320  239.25  247.3800   \n",
       "2020-03-20  108.46  110.2399  108.4600  109.49  28449412  242.53  244.4700   \n",
       "2020-03-23  109.90  112.9400  109.0000  112.55  23873510  228.19  229.6833   \n",
       "2020-03-24  111.52  113.5000  111.0754  113.29  18141498  234.42  244.1000   \n",
       "\n",
       "                                       \n",
       "               low   close     volume  \n",
       "2020-03-18  228.02  241.01  256921808  \n",
       "2020-03-19  232.22  241.18  248430643  \n",
       "2020-03-20  228.50  228.94  286308782  \n",
       "2020-03-23  218.26  222.51  268298876  \n",
       "2020-03-24  233.80  243.59  203576470  "
      ]
     },
     "execution_count": 31,
     "metadata": {},
     "output_type": "execute_result"
    }
   ],
   "source": [
    "# Get 5 years' worth of historical data for SPY and AGG\n",
    "df_portfolio = api.get_barset(\n",
    "    tickers,\n",
    "    timeframe,\n",
    "    start = start_date,\n",
    "    end = end_date\n",
    ").df\n",
    "\n",
    "# Create and empty DataFrame for closing prices\n",
    "df_stock_data = pd.DataFrame()\n",
    "\n",
    "# Fetch the closing prices for all the tickers\n",
    "#for ticker in tickers:\n",
    "#    df_stock_data[ticker] = df_portfolio[ticker][\"close\"]\n",
    "    \n",
    "df_stock_data = df_portfolio\n",
    "\n",
    "# Drop the time component of the date\n",
    "df_stock_data.index = df_stock_data.index.date\n",
    "\n",
    "# Display sample data\n",
    "df_stock_data.head()"
   ]
  },
  {
   "cell_type": "code",
   "execution_count": 32,
   "metadata": {},
   "outputs": [],
   "source": [
    "# Configuring a Monte Carlo simulation to forecast 30 years cumulative returns\n",
    "# Set number of simulations\n",
    "num_sims = 500\n",
    "MC_AAPL = MCSimulation(\n",
    "    portfolio_data = df_stock_data,\n",
    "    num_simulation = num_sims,\n",
    "    num_trading_days = 252*30\n",
    ")"
   ]
  },
  {
   "cell_type": "code",
   "execution_count": 33,
   "metadata": {},
   "outputs": [
    {
     "name": "stdout",
     "output_type": "stream",
     "text": [
      "Running Monte Carlo simulation number 0.\n",
      "Running Monte Carlo simulation number 10.\n",
      "Running Monte Carlo simulation number 20.\n",
      "Running Monte Carlo simulation number 30.\n",
      "Running Monte Carlo simulation number 40.\n",
      "Running Monte Carlo simulation number 50.\n",
      "Running Monte Carlo simulation number 60.\n",
      "Running Monte Carlo simulation number 70.\n",
      "Running Monte Carlo simulation number 80.\n",
      "Running Monte Carlo simulation number 90.\n",
      "Running Monte Carlo simulation number 100.\n",
      "Running Monte Carlo simulation number 110.\n",
      "Running Monte Carlo simulation number 120.\n",
      "Running Monte Carlo simulation number 130.\n",
      "Running Monte Carlo simulation number 140.\n",
      "Running Monte Carlo simulation number 150.\n",
      "Running Monte Carlo simulation number 160.\n",
      "Running Monte Carlo simulation number 170.\n",
      "Running Monte Carlo simulation number 180.\n",
      "Running Monte Carlo simulation number 190.\n",
      "Running Monte Carlo simulation number 200.\n",
      "Running Monte Carlo simulation number 210.\n",
      "Running Monte Carlo simulation number 220.\n",
      "Running Monte Carlo simulation number 230.\n",
      "Running Monte Carlo simulation number 240.\n",
      "Running Monte Carlo simulation number 250.\n",
      "Running Monte Carlo simulation number 260.\n",
      "Running Monte Carlo simulation number 270.\n",
      "Running Monte Carlo simulation number 280.\n",
      "Running Monte Carlo simulation number 290.\n",
      "Running Monte Carlo simulation number 300.\n",
      "Running Monte Carlo simulation number 310.\n",
      "Running Monte Carlo simulation number 320.\n",
      "Running Monte Carlo simulation number 330.\n",
      "Running Monte Carlo simulation number 340.\n",
      "Running Monte Carlo simulation number 350.\n",
      "Running Monte Carlo simulation number 360.\n",
      "Running Monte Carlo simulation number 370.\n",
      "Running Monte Carlo simulation number 380.\n",
      "Running Monte Carlo simulation number 390.\n",
      "Running Monte Carlo simulation number 400.\n",
      "Running Monte Carlo simulation number 410.\n",
      "Running Monte Carlo simulation number 420.\n",
      "Running Monte Carlo simulation number 430.\n",
      "Running Monte Carlo simulation number 440.\n",
      "Running Monte Carlo simulation number 450.\n",
      "Running Monte Carlo simulation number 460.\n",
      "Running Monte Carlo simulation number 470.\n",
      "Running Monte Carlo simulation number 480.\n",
      "Running Monte Carlo simulation number 490.\n"
     ]
    },
    {
     "data": {
      "text/html": [
       "<div>\n",
       "<style scoped>\n",
       "    .dataframe tbody tr th:only-of-type {\n",
       "        vertical-align: middle;\n",
       "    }\n",
       "\n",
       "    .dataframe tbody tr th {\n",
       "        vertical-align: top;\n",
       "    }\n",
       "\n",
       "    .dataframe thead th {\n",
       "        text-align: right;\n",
       "    }\n",
       "</style>\n",
       "<table border=\"1\" class=\"dataframe\">\n",
       "  <thead>\n",
       "    <tr style=\"text-align: right;\">\n",
       "      <th></th>\n",
       "      <th>0</th>\n",
       "      <th>1</th>\n",
       "      <th>2</th>\n",
       "      <th>3</th>\n",
       "      <th>4</th>\n",
       "      <th>5</th>\n",
       "      <th>6</th>\n",
       "      <th>7</th>\n",
       "      <th>8</th>\n",
       "      <th>9</th>\n",
       "      <th>...</th>\n",
       "      <th>490</th>\n",
       "      <th>491</th>\n",
       "      <th>492</th>\n",
       "      <th>493</th>\n",
       "      <th>494</th>\n",
       "      <th>495</th>\n",
       "      <th>496</th>\n",
       "      <th>497</th>\n",
       "      <th>498</th>\n",
       "      <th>499</th>\n",
       "    </tr>\n",
       "  </thead>\n",
       "  <tbody>\n",
       "    <tr>\n",
       "      <th>0</th>\n",
       "      <td>1.000000e+00</td>\n",
       "      <td>1.000000e+00</td>\n",
       "      <td>1.000000e+00</td>\n",
       "      <td>1.000000e+00</td>\n",
       "      <td>1.000000e+00</td>\n",
       "      <td>1.000000e+00</td>\n",
       "      <td>1.000000e+00</td>\n",
       "      <td>1.000000e+00</td>\n",
       "      <td>1.000000e+00</td>\n",
       "      <td>1.000000e+00</td>\n",
       "      <td>...</td>\n",
       "      <td>1.000000e+00</td>\n",
       "      <td>1.000000e+00</td>\n",
       "      <td>1.000000e+00</td>\n",
       "      <td>1.000000e+00</td>\n",
       "      <td>1.000000e+00</td>\n",
       "      <td>1.000000e+00</td>\n",
       "      <td>1.000000e+00</td>\n",
       "      <td>1.000000e+00</td>\n",
       "      <td>1.000000e+00</td>\n",
       "      <td>1.000000e+00</td>\n",
       "    </tr>\n",
       "    <tr>\n",
       "      <th>1</th>\n",
       "      <td>9.826683e-01</td>\n",
       "      <td>1.018156e+00</td>\n",
       "      <td>9.985812e-01</td>\n",
       "      <td>9.936505e-01</td>\n",
       "      <td>1.009436e+00</td>\n",
       "      <td>1.007968e+00</td>\n",
       "      <td>9.914150e-01</td>\n",
       "      <td>9.882949e-01</td>\n",
       "      <td>1.008200e+00</td>\n",
       "      <td>9.918620e-01</td>\n",
       "      <td>...</td>\n",
       "      <td>9.960100e-01</td>\n",
       "      <td>9.899555e-01</td>\n",
       "      <td>9.964049e-01</td>\n",
       "      <td>1.013098e+00</td>\n",
       "      <td>1.005982e+00</td>\n",
       "      <td>9.895170e-01</td>\n",
       "      <td>1.030461e+00</td>\n",
       "      <td>1.019507e+00</td>\n",
       "      <td>9.873658e-01</td>\n",
       "      <td>1.014350e+00</td>\n",
       "    </tr>\n",
       "    <tr>\n",
       "      <th>2</th>\n",
       "      <td>9.998029e-01</td>\n",
       "      <td>1.042787e+00</td>\n",
       "      <td>9.952134e-01</td>\n",
       "      <td>9.825495e-01</td>\n",
       "      <td>1.018803e+00</td>\n",
       "      <td>9.998120e-01</td>\n",
       "      <td>9.844771e-01</td>\n",
       "      <td>9.813498e-01</td>\n",
       "      <td>9.913440e-01</td>\n",
       "      <td>9.907987e-01</td>\n",
       "      <td>...</td>\n",
       "      <td>9.913212e-01</td>\n",
       "      <td>9.955894e-01</td>\n",
       "      <td>1.027991e+00</td>\n",
       "      <td>1.008665e+00</td>\n",
       "      <td>1.012383e+00</td>\n",
       "      <td>9.978595e-01</td>\n",
       "      <td>1.029618e+00</td>\n",
       "      <td>1.027860e+00</td>\n",
       "      <td>9.866722e-01</td>\n",
       "      <td>1.014638e+00</td>\n",
       "    </tr>\n",
       "    <tr>\n",
       "      <th>3</th>\n",
       "      <td>9.981471e-01</td>\n",
       "      <td>1.050218e+00</td>\n",
       "      <td>9.848487e-01</td>\n",
       "      <td>9.659998e-01</td>\n",
       "      <td>1.029278e+00</td>\n",
       "      <td>9.773771e-01</td>\n",
       "      <td>9.892476e-01</td>\n",
       "      <td>9.823149e-01</td>\n",
       "      <td>9.833441e-01</td>\n",
       "      <td>9.962704e-01</td>\n",
       "      <td>...</td>\n",
       "      <td>9.719949e-01</td>\n",
       "      <td>9.846235e-01</td>\n",
       "      <td>1.016500e+00</td>\n",
       "      <td>1.010505e+00</td>\n",
       "      <td>1.010385e+00</td>\n",
       "      <td>9.738725e-01</td>\n",
       "      <td>1.036311e+00</td>\n",
       "      <td>1.036746e+00</td>\n",
       "      <td>1.017146e+00</td>\n",
       "      <td>1.003333e+00</td>\n",
       "    </tr>\n",
       "    <tr>\n",
       "      <th>4</th>\n",
       "      <td>9.942439e-01</td>\n",
       "      <td>1.045248e+00</td>\n",
       "      <td>9.793810e-01</td>\n",
       "      <td>9.729759e-01</td>\n",
       "      <td>1.044251e+00</td>\n",
       "      <td>9.543155e-01</td>\n",
       "      <td>9.774706e-01</td>\n",
       "      <td>9.791078e-01</td>\n",
       "      <td>9.987962e-01</td>\n",
       "      <td>1.012119e+00</td>\n",
       "      <td>...</td>\n",
       "      <td>9.894851e-01</td>\n",
       "      <td>9.847148e-01</td>\n",
       "      <td>1.018300e+00</td>\n",
       "      <td>1.015312e+00</td>\n",
       "      <td>1.025097e+00</td>\n",
       "      <td>9.786621e-01</td>\n",
       "      <td>1.043096e+00</td>\n",
       "      <td>1.049208e+00</td>\n",
       "      <td>1.016217e+00</td>\n",
       "      <td>9.775781e-01</td>\n",
       "    </tr>\n",
       "    <tr>\n",
       "      <th>...</th>\n",
       "      <td>...</td>\n",
       "      <td>...</td>\n",
       "      <td>...</td>\n",
       "      <td>...</td>\n",
       "      <td>...</td>\n",
       "      <td>...</td>\n",
       "      <td>...</td>\n",
       "      <td>...</td>\n",
       "      <td>...</td>\n",
       "      <td>...</td>\n",
       "      <td>...</td>\n",
       "      <td>...</td>\n",
       "      <td>...</td>\n",
       "      <td>...</td>\n",
       "      <td>...</td>\n",
       "      <td>...</td>\n",
       "      <td>...</td>\n",
       "      <td>...</td>\n",
       "      <td>...</td>\n",
       "      <td>...</td>\n",
       "      <td>...</td>\n",
       "    </tr>\n",
       "    <tr>\n",
       "      <th>7556</th>\n",
       "      <td>7.421323e+07</td>\n",
       "      <td>6.316364e+06</td>\n",
       "      <td>2.904506e+07</td>\n",
       "      <td>1.256481e+08</td>\n",
       "      <td>4.055871e+07</td>\n",
       "      <td>8.395966e+06</td>\n",
       "      <td>7.203100e+07</td>\n",
       "      <td>5.764924e+06</td>\n",
       "      <td>1.088399e+07</td>\n",
       "      <td>9.448876e+07</td>\n",
       "      <td>...</td>\n",
       "      <td>2.210389e+07</td>\n",
       "      <td>4.800564e+07</td>\n",
       "      <td>7.319250e+06</td>\n",
       "      <td>2.291679e+07</td>\n",
       "      <td>3.305511e+07</td>\n",
       "      <td>2.200721e+07</td>\n",
       "      <td>2.255591e+07</td>\n",
       "      <td>4.778459e+07</td>\n",
       "      <td>1.681903e+07</td>\n",
       "      <td>7.211136e+07</td>\n",
       "    </tr>\n",
       "    <tr>\n",
       "      <th>7557</th>\n",
       "      <td>7.424702e+07</td>\n",
       "      <td>6.409831e+06</td>\n",
       "      <td>2.904000e+07</td>\n",
       "      <td>1.267424e+08</td>\n",
       "      <td>4.091108e+07</td>\n",
       "      <td>8.310981e+06</td>\n",
       "      <td>7.229988e+07</td>\n",
       "      <td>5.960863e+06</td>\n",
       "      <td>1.088241e+07</td>\n",
       "      <td>9.487929e+07</td>\n",
       "      <td>...</td>\n",
       "      <td>2.206189e+07</td>\n",
       "      <td>4.766120e+07</td>\n",
       "      <td>7.450559e+06</td>\n",
       "      <td>2.315893e+07</td>\n",
       "      <td>3.412379e+07</td>\n",
       "      <td>2.196924e+07</td>\n",
       "      <td>2.288301e+07</td>\n",
       "      <td>4.887012e+07</td>\n",
       "      <td>1.654695e+07</td>\n",
       "      <td>7.336392e+07</td>\n",
       "    </tr>\n",
       "    <tr>\n",
       "      <th>7558</th>\n",
       "      <td>7.601678e+07</td>\n",
       "      <td>6.445841e+06</td>\n",
       "      <td>2.905383e+07</td>\n",
       "      <td>1.257638e+08</td>\n",
       "      <td>4.101176e+07</td>\n",
       "      <td>8.375488e+06</td>\n",
       "      <td>7.140148e+07</td>\n",
       "      <td>6.013352e+06</td>\n",
       "      <td>1.091842e+07</td>\n",
       "      <td>9.462985e+07</td>\n",
       "      <td>...</td>\n",
       "      <td>2.205908e+07</td>\n",
       "      <td>4.764228e+07</td>\n",
       "      <td>7.506162e+06</td>\n",
       "      <td>2.328144e+07</td>\n",
       "      <td>3.406929e+07</td>\n",
       "      <td>2.195450e+07</td>\n",
       "      <td>2.299331e+07</td>\n",
       "      <td>4.893722e+07</td>\n",
       "      <td>1.664796e+07</td>\n",
       "      <td>7.362742e+07</td>\n",
       "    </tr>\n",
       "    <tr>\n",
       "      <th>7559</th>\n",
       "      <td>7.621838e+07</td>\n",
       "      <td>6.463983e+06</td>\n",
       "      <td>2.902177e+07</td>\n",
       "      <td>1.250879e+08</td>\n",
       "      <td>4.065933e+07</td>\n",
       "      <td>8.502707e+06</td>\n",
       "      <td>7.088205e+07</td>\n",
       "      <td>6.036332e+06</td>\n",
       "      <td>1.095874e+07</td>\n",
       "      <td>9.310421e+07</td>\n",
       "      <td>...</td>\n",
       "      <td>2.255926e+07</td>\n",
       "      <td>4.693441e+07</td>\n",
       "      <td>7.577158e+06</td>\n",
       "      <td>2.337292e+07</td>\n",
       "      <td>3.468780e+07</td>\n",
       "      <td>2.258281e+07</td>\n",
       "      <td>2.319915e+07</td>\n",
       "      <td>4.948248e+07</td>\n",
       "      <td>1.675398e+07</td>\n",
       "      <td>7.422347e+07</td>\n",
       "    </tr>\n",
       "    <tr>\n",
       "      <th>7560</th>\n",
       "      <td>7.669936e+07</td>\n",
       "      <td>6.481434e+06</td>\n",
       "      <td>2.930888e+07</td>\n",
       "      <td>1.279448e+08</td>\n",
       "      <td>4.042702e+07</td>\n",
       "      <td>8.434570e+06</td>\n",
       "      <td>6.928163e+07</td>\n",
       "      <td>6.117024e+06</td>\n",
       "      <td>1.100269e+07</td>\n",
       "      <td>9.395766e+07</td>\n",
       "      <td>...</td>\n",
       "      <td>2.274571e+07</td>\n",
       "      <td>4.755907e+07</td>\n",
       "      <td>7.640044e+06</td>\n",
       "      <td>2.356215e+07</td>\n",
       "      <td>3.491712e+07</td>\n",
       "      <td>2.258193e+07</td>\n",
       "      <td>2.323107e+07</td>\n",
       "      <td>4.854746e+07</td>\n",
       "      <td>1.690571e+07</td>\n",
       "      <td>7.476240e+07</td>\n",
       "    </tr>\n",
       "  </tbody>\n",
       "</table>\n",
       "<p>7561 rows × 500 columns</p>\n",
       "</div>"
      ],
      "text/plain": [
       "               0             1             2             3             4    \\\n",
       "0     1.000000e+00  1.000000e+00  1.000000e+00  1.000000e+00  1.000000e+00   \n",
       "1     9.826683e-01  1.018156e+00  9.985812e-01  9.936505e-01  1.009436e+00   \n",
       "2     9.998029e-01  1.042787e+00  9.952134e-01  9.825495e-01  1.018803e+00   \n",
       "3     9.981471e-01  1.050218e+00  9.848487e-01  9.659998e-01  1.029278e+00   \n",
       "4     9.942439e-01  1.045248e+00  9.793810e-01  9.729759e-01  1.044251e+00   \n",
       "...            ...           ...           ...           ...           ...   \n",
       "7556  7.421323e+07  6.316364e+06  2.904506e+07  1.256481e+08  4.055871e+07   \n",
       "7557  7.424702e+07  6.409831e+06  2.904000e+07  1.267424e+08  4.091108e+07   \n",
       "7558  7.601678e+07  6.445841e+06  2.905383e+07  1.257638e+08  4.101176e+07   \n",
       "7559  7.621838e+07  6.463983e+06  2.902177e+07  1.250879e+08  4.065933e+07   \n",
       "7560  7.669936e+07  6.481434e+06  2.930888e+07  1.279448e+08  4.042702e+07   \n",
       "\n",
       "               5             6             7             8             9    \\\n",
       "0     1.000000e+00  1.000000e+00  1.000000e+00  1.000000e+00  1.000000e+00   \n",
       "1     1.007968e+00  9.914150e-01  9.882949e-01  1.008200e+00  9.918620e-01   \n",
       "2     9.998120e-01  9.844771e-01  9.813498e-01  9.913440e-01  9.907987e-01   \n",
       "3     9.773771e-01  9.892476e-01  9.823149e-01  9.833441e-01  9.962704e-01   \n",
       "4     9.543155e-01  9.774706e-01  9.791078e-01  9.987962e-01  1.012119e+00   \n",
       "...            ...           ...           ...           ...           ...   \n",
       "7556  8.395966e+06  7.203100e+07  5.764924e+06  1.088399e+07  9.448876e+07   \n",
       "7557  8.310981e+06  7.229988e+07  5.960863e+06  1.088241e+07  9.487929e+07   \n",
       "7558  8.375488e+06  7.140148e+07  6.013352e+06  1.091842e+07  9.462985e+07   \n",
       "7559  8.502707e+06  7.088205e+07  6.036332e+06  1.095874e+07  9.310421e+07   \n",
       "7560  8.434570e+06  6.928163e+07  6.117024e+06  1.100269e+07  9.395766e+07   \n",
       "\n",
       "      ...           490           491           492           493  \\\n",
       "0     ...  1.000000e+00  1.000000e+00  1.000000e+00  1.000000e+00   \n",
       "1     ...  9.960100e-01  9.899555e-01  9.964049e-01  1.013098e+00   \n",
       "2     ...  9.913212e-01  9.955894e-01  1.027991e+00  1.008665e+00   \n",
       "3     ...  9.719949e-01  9.846235e-01  1.016500e+00  1.010505e+00   \n",
       "4     ...  9.894851e-01  9.847148e-01  1.018300e+00  1.015312e+00   \n",
       "...   ...           ...           ...           ...           ...   \n",
       "7556  ...  2.210389e+07  4.800564e+07  7.319250e+06  2.291679e+07   \n",
       "7557  ...  2.206189e+07  4.766120e+07  7.450559e+06  2.315893e+07   \n",
       "7558  ...  2.205908e+07  4.764228e+07  7.506162e+06  2.328144e+07   \n",
       "7559  ...  2.255926e+07  4.693441e+07  7.577158e+06  2.337292e+07   \n",
       "7560  ...  2.274571e+07  4.755907e+07  7.640044e+06  2.356215e+07   \n",
       "\n",
       "               494           495           496           497           498  \\\n",
       "0     1.000000e+00  1.000000e+00  1.000000e+00  1.000000e+00  1.000000e+00   \n",
       "1     1.005982e+00  9.895170e-01  1.030461e+00  1.019507e+00  9.873658e-01   \n",
       "2     1.012383e+00  9.978595e-01  1.029618e+00  1.027860e+00  9.866722e-01   \n",
       "3     1.010385e+00  9.738725e-01  1.036311e+00  1.036746e+00  1.017146e+00   \n",
       "4     1.025097e+00  9.786621e-01  1.043096e+00  1.049208e+00  1.016217e+00   \n",
       "...            ...           ...           ...           ...           ...   \n",
       "7556  3.305511e+07  2.200721e+07  2.255591e+07  4.778459e+07  1.681903e+07   \n",
       "7557  3.412379e+07  2.196924e+07  2.288301e+07  4.887012e+07  1.654695e+07   \n",
       "7558  3.406929e+07  2.195450e+07  2.299331e+07  4.893722e+07  1.664796e+07   \n",
       "7559  3.468780e+07  2.258281e+07  2.319915e+07  4.948248e+07  1.675398e+07   \n",
       "7560  3.491712e+07  2.258193e+07  2.323107e+07  4.854746e+07  1.690571e+07   \n",
       "\n",
       "               499  \n",
       "0     1.000000e+00  \n",
       "1     1.014350e+00  \n",
       "2     1.014638e+00  \n",
       "3     1.003333e+00  \n",
       "4     9.775781e-01  \n",
       "...            ...  \n",
       "7556  7.211136e+07  \n",
       "7557  7.336392e+07  \n",
       "7558  7.362742e+07  \n",
       "7559  7.422347e+07  \n",
       "7560  7.476240e+07  \n",
       "\n",
       "[7561 rows x 500 columns]"
      ]
     },
     "execution_count": 33,
     "metadata": {},
     "output_type": "execute_result"
    }
   ],
   "source": [
    "# Printing the simulation input data\n",
    "MC_AAPL.calc_cumulative_return()"
   ]
  },
  {
   "cell_type": "code",
   "execution_count": 34,
   "metadata": {},
   "outputs": [
    {
     "data": {
      "image/png": "[encoded data removed]",
      "text/plain": [
       "<Figure size 432x288 with 1 Axes>"
      ]
     },
     "metadata": {
      "needs_background": "light"
     },
     "output_type": "display_data"
    }
   ],
   "source": [
    "# Plot simulation outcomes\n",
    "line_plot = MC_AAPL.plot_simulation()"
   ]
  },
  {
   "cell_type": "code",
   "execution_count": 36,
   "metadata": {},
   "outputs": [
    {
     "data": {
      "text/plain": [
       "<matplotlib.axes._subplots.AxesSubplot at 0x7fb778950150>"
      ]
     },
     "execution_count": 36,
     "metadata": {},
     "output_type": "execute_result"
    },
    {
     "data": {
      "image/png": "[encoded data removed]",
      "text/plain": [
       "<Figure size 432x288 with 1 Axes>"
      ]
     },
     "metadata": {
      "needs_background": "light"
     },
     "output_type": "display_data"
    }
   ],
   "source": [
    "# Plot probability distribution and confidence intervals\n",
    "simulated_returns_data = {\n",
    "    \"mean\": list(MC_AAPL.simulated_return.mean(axis=1)),\n",
    "    \"median\": list(MC_AAPL.simulated_return.median(axis=1)),\n",
    "    \"min\": list(MC_AAPL.simulated_return.min(axis=1)),\n",
    "    \"max\": list(MC_AAPL.simulated_return.max(axis=1))\n",
    "}\n",
    "\n",
    "# Create a DataFrame with the summary statistics\n",
    "df_simulated_returns = pd.DataFrame(simulated_returns_data)\n",
    "\n",
    "# Display sample data\n",
    "df_simulated_returns.head()\n",
    "df_simulated_returns.plot(title=\"Simulated Daily Returns Behavior\")"
   ]
  },
  {
   "cell_type": "code",
   "execution_count": 42,
   "metadata": {},
   "outputs": [
    {
     "data": {
      "text/plain": [
       "<matplotlib.axes._subplots.AxesSubplot at 0x7fb7a96e8e90>"
      ]
     },
     "execution_count": 42,
     "metadata": {},
     "output_type": "execute_result"
    },
    {
     "data": {
      "image/png": "[encoded data removed]",
      "text/plain": [
       "<Figure size 432x288 with 1 Axes>"
      ]
     },
     "metadata": {
      "needs_background": "light"
     },
     "output_type": "display_data"
    }
   ],
   "source": [
    "df_simulated_returns.plot.hist(alpha=0.5,bins=[0,10,20,30,40,50]) "
   ]
  },
  {
   "cell_type": "markdown",
   "metadata": {},
   "source": [
    "### Retirement Analysis"
   ]
  },
  {
   "cell_type": "code",
   "execution_count": 37,
   "metadata": {},
   "outputs": [
    {
     "name": "stdout",
     "output_type": "stream",
     "text": [
      "count           5.000000e+02\n",
      "mean            5.622674e+07\n",
      "std             7.290416e+07\n",
      "min             1.201925e+06\n",
      "25%             1.821527e+07\n",
      "50%             3.509311e+07\n",
      "75%             6.763324e+07\n",
      "max             7.165163e+08\n",
      "95% CI Lower    5.874474e+06\n",
      "95% CI Upper    2.320194e+08\n",
      "Name: 7560, dtype: float64\n"
     ]
    }
   ],
   "source": [
    "# Fetch summary statistics from the Monte Carlo simulation results\n",
    "tbl = MC_AAPL.summarize_cumulative_return()\n",
    "\n",
    "# Print summary statistics\n",
    "print(tbl)"
   ]
  },
  {
   "cell_type": "markdown",
   "metadata": {},
   "source": [
    "### Calculate the expected portfolio return at the 95% lower and upper confidence intervals based on a `$20,000` initial investment."
   ]
  },
  {
   "cell_type": "code",
   "execution_count": 38,
   "metadata": {},
   "outputs": [
    {
     "name": "stdout",
     "output_type": "stream",
     "text": [
      "There is a 95% chance that an initial investment of $20000 in the portfolio over the next 30 years will end within in the range of $58744738781.26 and $2320193538622.0\n"
     ]
    }
   ],
   "source": [
    "# Set initial investment\n",
    "initial_investment = 20000\n",
    "\n",
    "# Use the lower and upper `95%` confidence intervals to calculate the range of the possible outcomes of our $20,000\n",
    "ci_lower = round(tbl[8]*10000,2)\n",
    "ci_upper = round(tbl[9]*10000,2)\n",
    "\n",
    "# Print results\n",
    "print(f\"There is a 95% chance that an initial investment of ${initial_investment} in the portfolio\"\n",
    "      f\" over the next 30 years will end within in the range of\"\n",
    "      f\" ${ci_lower} and ${ci_upper}\")"
   ]
  },
  {
   "cell_type": "markdown",
   "metadata": {},
   "source": [
    "### Calculate the expected portfolio return at the `95%` lower and upper confidence intervals based on a `50%` increase in the initial investment."
   ]
  },
  {
   "cell_type": "code",
   "execution_count": 39,
   "metadata": {},
   "outputs": [
    {
     "name": "stdout",
     "output_type": "stream",
     "text": [
      "There is a 95% chance that an initial investment of $30000.0 in the portfolio over the next 30 years will end within in the range of $58744738781.26 and $2320193538622.0\n"
     ]
    }
   ],
   "source": [
    "# Set initial investment\n",
    "initial_investment = 20000 * 1.5\n",
    "\n",
    "# Use the lower and upper `95%` confidence intervals to calculate the range of the possible outcomes of our $30,000\n",
    "ci_lower = round(tbl[8]*10000,2)\n",
    "ci_upper = round(tbl[9]*10000,2)\n",
    "\n",
    "# Print results\n",
    "print(f\"There is a 95% chance that an initial investment of ${initial_investment} in the portfolio\"\n",
    "      f\" over the next 30 years will end within in the range of\"\n",
    "      f\" ${ci_lower} and ${ci_upper}\")"
   ]
  }
 ],
 "metadata": {
  "kernelspec": {
   "display_name": "Python 3",
   "language": "python",
   "name": "python3"
  },
  "language_info": {
   "codemirror_mode": {
    "name": "ipython",
    "version": 3
   },
   "file_extension": ".py",
   "mimetype": "text/x-python",
   "name": "python",
   "nbconvert_exporter": "python",
   "pygments_lexer": "ipython3",
   "version": "3.7.10"
  }
 },
 "nbformat": 4,
 "nbformat_minor": 4
}
